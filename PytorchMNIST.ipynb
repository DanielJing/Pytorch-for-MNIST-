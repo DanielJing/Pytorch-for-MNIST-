{
  "nbformat": 4,
  "nbformat_minor": 0,
  "metadata": {
    "colab": {
      "name": "Untitled1.ipynb",
      "provenance": [],
      "collapsed_sections": []
    },
    "kernelspec": {
      "name": "python3",
      "display_name": "Python 3"
    },
    "language_info": {
      "name": "python"
    }
  },
  "cells": [
    {
      "cell_type": "code",
      "metadata": {
        "id": "93kpxGJm1Se0"
      },
      "source": [
        "import numpy as np\n",
        "import torch\n",
        "\n",
        "from torchvision.datasets import mnist\n",
        "\n",
        "import torchvision.transforms as transforms\n",
        "from torch.utils.data import DataLoader\n",
        "\n",
        "import torch.nn.functional as F\n",
        "import torch.optim as optim\n",
        "from torch import nn\n",
        "\n",
        "import matplotlib.pyplot as plt"
      ],
      "execution_count": 1,
      "outputs": []
    },
    {
      "cell_type": "code",
      "metadata": {
        "id": "wkc20eJV1hGD"
      },
      "source": [
        "train_batch_size = 64       \n",
        "test_batch_size = 128       \n",
        "learning_rate = 0.01        \n",
        "num_epoches = 20            \n",
        "lr = 0.01                   \n",
        "momentum = 0.5  "
      ],
      "execution_count": 2,
      "outputs": []
    },
    {
      "cell_type": "code",
      "metadata": {
        "colab": {
          "base_uri": "https://localhost:8080/"
        },
        "id": "46xNsqlx1xwG",
        "outputId": "5ec8da2a-66a2-46de-83bf-6c838502cabc"
      },
      "source": [
        "transform = transforms.Compose([transforms.ToTensor(), transforms.Normalize([0.5], [0.5])])\n",
        "\n",
        "train_dataset = mnist.MNIST('./data', train=True, transform=transform, download=True)\n",
        "test_dataset = mnist.MNIST('./data', train=True, transform=transform)\n",
        "\n",
        "train_loader = DataLoader(train_dataset, batch_size=train_batch_size, shuffle=True)\n",
        "test_loader = DataLoader(test_dataset, batch_size=test_batch_size, shuffle=True)"
      ],
      "execution_count": 3,
      "outputs": [
        {
          "output_type": "stream",
          "name": "stderr",
          "text": [
            "/usr/local/lib/python3.7/dist-packages/torchvision/datasets/mnist.py:498: UserWarning: The given NumPy array is not writeable, and PyTorch does not support non-writeable tensors. This means you can write to the underlying (supposedly non-writeable) NumPy array using the tensor. You may want to copy the array to protect its data or make it writeable before converting it to a tensor. This type of warning will be suppressed for the rest of this program. (Triggered internally at  /pytorch/torch/csrc/utils/tensor_numpy.cpp:180.)\n",
            "  return torch.from_numpy(parsed.astype(m[2], copy=False)).view(*s)\n"
          ]
        }
      ]
    },
    {
      "cell_type": "code",
      "metadata": {
        "colab": {
          "base_uri": "https://localhost:8080/",
          "height": 256
        },
        "id": "rz-P3J3I2G5d",
        "outputId": "48055cfa-51e1-4e68-d372-46ad895bc4a5"
      },
      "source": [
        "#Visualization\n",
        "examples = enumerate(test_loader)\n",
        "batch_idx, (example_data, example_targets) = next(examples)\n",
        "\n",
        "fig = plt.figure()\n",
        "for i in range(8):\n",
        "    plt.subplot(2, 4, i+1)\n",
        "    plt.tight_layout()\n",
        "    plt.imshow(example_data[i][0], cmap='gray', interpolation='none')\n",
        "    plt.title(\"Ground Truth: {}\".format(example_targets[i]))\n",
        "    plt.xticks([])\n",
        "    plt.yticks([])\n",
        "    #plt.pause()\n",
        "plt.show(block=False)\n",
        "plt.pause(5)\n",
        "plt.close()\n",
        "print(\"Done.\")"
      ],
      "execution_count": 4,
      "outputs": [
        {
          "output_type": "display_data",
          "data": {
            "image/png": "[encoded data removed]",
            "text/plain": [
              "<Figure size 432x288 with 6 Axes>"
            ]
          },
          "metadata": {}
        },
        {
          "output_type": "stream",
          "name": "stdout",
          "text": [
            "Done.\n"
          ]
        }
      ]
    },
    {
      "cell_type": "code",
      "metadata": {
        "id": "Y0Ctj5V82rsr"
      },
      "source": [
        "class Net(nn.Module):\n",
        "    def __init__(self, in_dim, n_hidden_1, n_hidden_2, out_dim):\n",
        "        super(Net, self).__init__()\n",
        "        self.layer1 = nn.Sequential(nn.Linear(in_dim, n_hidden_1), nn.BatchNorm1d(n_hidden_1))\n",
        "        self.layer2 = nn.Sequential(nn.Linear(n_hidden_1, n_hidden_2), nn.BatchNorm1d(n_hidden_2))\n",
        "        self.layer3 = nn.Sequential(nn.Linear(n_hidden_2, out_dim))  \n",
        "    def forward(self, x):\n",
        "        x = F.relu(self.layer1(x))\n",
        "        x = F.relu(self.layer2(x))\n",
        "        x = self.layer3(x)\n",
        "        return x"
      ],
      "execution_count": 5,
      "outputs": []
    },
    {
      "cell_type": "code",
      "metadata": {
        "id": "s9rEXGzF3SwJ"
      },
      "source": [
        "device = torch.device(\"cuda: 0\" if torch.cuda.is_available() else \"cpu\")"
      ],
      "execution_count": 6,
      "outputs": []
    },
    {
      "cell_type": "code",
      "metadata": {
        "colab": {
          "base_uri": "https://localhost:8080/"
        },
        "id": "rtCDY_3u3XkI",
        "outputId": "94a8f0f2-94c7-4018-d562-75fecf31752b"
      },
      "source": [
        "#Put into net.\n",
        "model = Net(28 * 28, 300, 100, 10)\n",
        "model.to(device)\n",
        "print(model)"
      ],
      "execution_count": 7,
      "outputs": [
        {
          "output_type": "stream",
          "name": "stdout",
          "text": [
            "Net(\n",
            "  (layer1): Sequential(\n",
            "    (0): Linear(in_features=784, out_features=300, bias=True)\n",
            "    (1): BatchNorm1d(300, eps=1e-05, momentum=0.1, affine=True, track_running_stats=True)\n",
            "  )\n",
            "  (layer2): Sequential(\n",
            "    (0): Linear(in_features=300, out_features=100, bias=True)\n",
            "    (1): BatchNorm1d(100, eps=1e-05, momentum=0.1, affine=True, track_running_stats=True)\n",
            "  )\n",
            "  (layer3): Sequential(\n",
            "    (0): Linear(in_features=100, out_features=10, bias=True)\n",
            "  )\n",
            ")\n"
          ]
        }
      ]
    },
    {
      "cell_type": "code",
      "metadata": {
        "id": "RsT3eNdx3xvT"
      },
      "source": [
        "#Set loss function and optimizer\n",
        "criterion = nn.CrossEntropyLoss()\n",
        "optimizer = optim.SGD(model.parameters(), lr=lr, momentum=momentum)\n",
        "losses = []\n",
        "acces = []\n",
        "eval_losses = []\n",
        "eval_acces = []"
      ],
      "execution_count": 8,
      "outputs": []
    },
    {
      "cell_type": "code",
      "metadata": {
        "id": "IaJguaYgBP0G"
      },
      "source": [
        "for epoch in range(num_epoches):\n",
        "    train_loss = 0\n",
        "    train_acc = 0\n",
        "    model.train()"
      ],
      "execution_count": 9,
      "outputs": []
    },
    {
      "cell_type": "code",
      "metadata": {
        "id": "1Po1vTbaBQ1w"
      },
      "source": [
        "if epoch % 5 == 0:\n",
        "    optimizer.param_groups[0]['lr'] *= 0.1"
      ],
      "execution_count": 10,
      "outputs": []
    },
    {
      "cell_type": "code",
      "metadata": {
        "id": "i3ZaNV8CBW_6"
      },
      "source": [
        "for img, label in train_loader:\n",
        "    img = img.to(device)\n",
        "    label = label.to(device)\n",
        "    img = img.view(img.size(0), -1)"
      ],
      "execution_count": 11,
      "outputs": []
    },
    {
      "cell_type": "code",
      "metadata": {
        "id": "Hl44hZJcBg52"
      },
      "source": [
        "out = model(img)\n",
        "loss = criterion(out, label)"
      ],
      "execution_count": 12,
      "outputs": []
    },
    {
      "cell_type": "code",
      "metadata": {
        "id": "P2Fl7TM4CF9r"
      },
      "source": [
        "optimizer.zero_grad()\n",
        "loss.backward()\n",
        "optimizer.step()   "
      ],
      "execution_count": 13,
      "outputs": []
    },
    {
      "cell_type": "code",
      "metadata": {
        "id": "y-xshF0ZH8DN"
      },
      "source": [
        "train_loss += loss.item()"
      ],
      "execution_count": 14,
      "outputs": []
    },
    {
      "cell_type": "code",
      "metadata": {
        "id": "7reo1sDdIBCN"
      },
      "source": [
        "_, pred = out.max(1)\n",
        "num_correct = (pred == label).sum().item()\n",
        "acc = num_correct / img.shape[0]\n",
        "train_acc += acc"
      ],
      "execution_count": 15,
      "outputs": []
    },
    {
      "cell_type": "code",
      "metadata": {
        "id": "ZUQg3v15INnN"
      },
      "source": [
        "losses.append(train_loss / len(train_loader))\n",
        "acces.append(train_acc / len(train_loader)) "
      ],
      "execution_count": 16,
      "outputs": []
    },
    {
      "cell_type": "code",
      "metadata": {
        "id": "bHVl94SqIQHX"
      },
      "source": [
        "eval_loss = 0\n",
        "eval_acc = 0"
      ],
      "execution_count": 17,
      "outputs": []
    },
    {
      "cell_type": "code",
      "metadata": {
        "id": "fnDxplrIIcJO"
      },
      "source": [
        "model.eval()\n",
        "for img, label in test_loader:\n",
        "    img = img.to(device)\n",
        "    label = label.to(device)\n",
        "    img = img.view(img.size(0), -1)\n",
        "    out = model(img)\n",
        "    loss = criterion(out, label)"
      ],
      "execution_count": 18,
      "outputs": []
    },
    {
      "cell_type": "code",
      "metadata": {
        "id": "QU_tQKoQIncG"
      },
      "source": [
        "eval_loss += loss.item()"
      ],
      "execution_count": 19,
      "outputs": []
    },
    {
      "cell_type": "code",
      "metadata": {
        "id": "n8fquRwYIua5"
      },
      "source": [
        "_, pred = out.max(1)\n",
        "num_correct = (pred == label).sum().item()\n",
        "acc = num_correct / img.shape[0]\n",
        "eval_acc += acc"
      ],
      "execution_count": 20,
      "outputs": []
    },
    {
      "cell_type": "code",
      "metadata": {
        "colab": {
          "base_uri": "https://localhost:8080/"
        },
        "id": "FGLoetcfI01m",
        "outputId": "1a7f1744-8773-4d4e-8b00-fe4492a91275"
      },
      "source": [
        "eval_losses.append(eval_loss / len(test_loader))\n",
        "eval_acces.append(eval_acc/ len(test_loader))\n",
        "print('epoch: {}, Train Loss: {:.4f}, Train Acc: {:.4f}, Test Loss: {:.4f}, Test Acc: {:.4f}'\n",
        "      .format(epoch, train_loss / len(train_loader), train_acc / len(train_loader),\n",
        "                  eval_loss / len(test_loader), eval_acc / len(test_loader)))"
      ],
      "execution_count": 22,
      "outputs": [
        {
          "output_type": "stream",
          "name": "stdout",
          "text": [
            "epoch: 19, Train Loss: 0.0027, Train Acc: 0.0000, Test Loss: 0.0050, Test Acc: 0.0002\n"
          ]
        }
      ]
    },
    {
      "cell_type": "code",
      "metadata": {
        "colab": {
          "base_uri": "https://localhost:8080/",
          "height": 281
        },
        "id": "aZOSmggoI-L-",
        "outputId": "a43da844-89da-4864-9470-5c70f84520cc"
      },
      "source": [
        "plt.title('train loss')\n",
        "plt.plot(np.arange(len(losses)), losses)\n",
        "plt.legend(['Train Loss'], loc='upper right')\n",
        "plt.show(block=False)\n",
        "plt.pause(5)\n",
        "plt.close()"
      ],
      "execution_count": 23,
      "outputs": [
        {
          "output_type": "display_data",
          "data": {
            "image/png": "[encoded data removed]",
            "text/plain": [
              "<Figure size 432x288 with 1 Axes>"
            ]
          },
          "metadata": {
            "needs_background": "light"
          }
        }
      ]
    }
  ]
}